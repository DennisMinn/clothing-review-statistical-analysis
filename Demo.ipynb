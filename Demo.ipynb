{
 "cells": [
  {
   "cell_type": "markdown",
   "id": "d551570b",
   "metadata": {},
   "source": [
    "# Statistical Analysis of Women's Clothing E-Commerce Review Dataset\n",
    "Women’s Clothing E-Commerce Reviews Dataset. This notebook uses only the reviews in its models for all the analysis. The labels are either positive or negative which says if the review is positive or negative. This task is called sentiment analysis."
   ]
  },
  {
   "cell_type": "code",
   "execution_count": 13,
   "id": "8121e972",
   "metadata": {},
   "outputs": [
    {
     "name": "stdout",
     "output_type": "stream",
     "text": [
      "The autoreload extension is already loaded. To reload it, use:\n",
      "  %reload_ext autoreload\n"
     ]
    }
   ],
   "source": [
    "import numpy as np\n",
    "import pandas as pd\n",
    "from matplotlib import pyplot as plt\n",
    "from sklearn.metrics import roc_auc_score, f1_score, accuracy_score, confusion_matrix\n",
    "\n",
    "# see http://stackoverflow.com/questions/1907993/autoreload-of-modules-in-ipython\n",
    "from naive_bayes import *\n",
    "from log_reg import *\n",
    "%load_ext autoreload\n",
    "%autoreload 2"
   ]
  },
  {
   "cell_type": "code",
   "execution_count": 2,
   "id": "04cd5613",
   "metadata": {},
   "outputs": [],
   "source": [
    "X_train, y_train, X_valid, y_valid, X_test = load_data(return_numpy=False)"
   ]
  },
  {
   "cell_type": "code",
   "execution_count": 3,
   "id": "382f8fe7",
   "metadata": {},
   "outputs": [
    {
     "data": {
      "text/html": [
       "<div>\n",
       "<style scoped>\n",
       "    .dataframe tbody tr th:only-of-type {\n",
       "        vertical-align: middle;\n",
       "    }\n",
       "\n",
       "    .dataframe tbody tr th {\n",
       "        vertical-align: top;\n",
       "    }\n",
       "\n",
       "    .dataframe thead th {\n",
       "        text-align: right;\n",
       "    }\n",
       "</style>\n",
       "<table border=\"1\" class=\"dataframe\">\n",
       "  <thead>\n",
       "    <tr style=\"text-align: right;\">\n",
       "      <th></th>\n",
       "      <th>review</th>\n",
       "      <th>sentiment</th>\n",
       "    </tr>\n",
       "  </thead>\n",
       "  <tbody>\n",
       "    <tr>\n",
       "      <th>0</th>\n",
       "      <td>Extremely comfortable t. fits tts. bought in b...</td>\n",
       "      <td>1</td>\n",
       "    </tr>\n",
       "    <tr>\n",
       "      <th>1</th>\n",
       "      <td>Perfect fall accessory and transitional piece ...</td>\n",
       "      <td>1</td>\n",
       "    </tr>\n",
       "    <tr>\n",
       "      <th>2</th>\n",
       "      <td>Love, love, love but alas had to return. gorge...</td>\n",
       "      <td>1</td>\n",
       "    </tr>\n",
       "    <tr>\n",
       "      <th>3</th>\n",
       "      <td>I did not like this top at all-but had i looke...</td>\n",
       "      <td>0</td>\n",
       "    </tr>\n",
       "    <tr>\n",
       "      <th>4</th>\n",
       "      <td>Omg. i also bought this years ago. i have worn...</td>\n",
       "      <td>1</td>\n",
       "    </tr>\n",
       "  </tbody>\n",
       "</table>\n",
       "</div>"
      ],
      "text/plain": [
       "                                              review  sentiment\n",
       "0  Extremely comfortable t. fits tts. bought in b...          1\n",
       "1  Perfect fall accessory and transitional piece ...          1\n",
       "2  Love, love, love but alas had to return. gorge...          1\n",
       "3  I did not like this top at all-but had i looke...          0\n",
       "4  Omg. i also bought this years ago. i have worn...          1"
      ]
     },
     "execution_count": 3,
     "metadata": {},
     "output_type": "execute_result"
    }
   ],
   "source": [
    "train_df = pd.DataFrame(tuple(zip(X_train, y_train)), columns = ['review', 'sentiment'])\n",
    "train_df.head()"
   ]
  },
  {
   "cell_type": "markdown",
   "id": "d5806fb9",
   "metadata": {},
   "source": [
    "# BagOfWords Class\n",
    "\n",
    "Implemented a Bag-of-Words model from scratching using natural language processing and information retrieval techniques. In this model, our reviews are represented as the bag (multiset) of its words, disregarding grammar and even word order but keeping multiplicity. This bag-of-words model serves as a backbone for calculating the review statistics."
   ]
  },
  {
   "cell_type": "markdown",
   "id": "8d7930d3",
   "metadata": {},
   "source": [
    "## Custom Bag-of-Words Model"
   ]
  },
  {
   "cell_type": "code",
   "execution_count": 4,
   "id": "12ec944c",
   "metadata": {
    "scrolled": true
   },
   "outputs": [
    {
     "name": "stdout",
     "output_type": "stream",
     "text": [
      "and : 232\n",
      "but : 77\n",
      "in  : 84\n",
      "is  : 152\n",
      "it  : 195\n",
      "of  : 56\n",
      "the : 340\n",
      "this: 118\n",
      "to  : 112\n",
      "with: 62\n"
     ]
    }
   ],
   "source": [
    "bow = BagOfWords(10)\n",
    "vocab = bow.fit(X_train[:100])\n",
    "counts = bow.transform(X_train[:100])\n",
    "counts = counts.sum(0)\n",
    "\n",
    "for word, count in zip(vocab, counts):\n",
    "    print(f'{word:4}: {count}')"
   ]
  },
  {
   "cell_type": "markdown",
   "id": "0b2e4a3c",
   "metadata": {},
   "source": [
    "## Sklearn Bag-of-Words Model"
   ]
  },
  {
   "cell_type": "code",
   "execution_count": 5,
   "id": "4dd3f635",
   "metadata": {},
   "outputs": [
    {
     "name": "stdout",
     "output_type": "stream",
     "text": [
      "and : 232\n",
      "but : 77\n",
      "in  : 84\n",
      "is  : 152\n",
      "it  : 195\n",
      "of  : 56\n",
      "the : 340\n",
      "this: 118\n",
      "to  : 112\n",
      "with: 62\n"
     ]
    }
   ],
   "source": [
    "#  Sanity Check\n",
    "# '[\\w]{2,}' select all alpha-numerical chars that are at least 2 chars long\n",
    "bow = CountVectorizer(token_pattern = '[\\w]{2,}', max_features = 10)\n",
    "bow = bow.fit(X_train[:100])\n",
    "counts = bow.transform(X_train[:100]).sum(0)\n",
    "for i in range(10):\n",
    "    print(f'{bow.get_feature_names()[i]:4}: {counts[0, i]}')"
   ]
  },
  {
   "cell_type": "markdown",
   "id": "f1595b29",
   "metadata": {},
   "source": [
    "# Bayes Network\n",
    "\n",
    "In statistics, the naive Bayes classifier is a \"probabilistic classifier\" based on applying Bayes' theorem with strong (naive) independence assumptions between the features. This section develops a Naive Bayes Classifier for a sentiment analysis task. At each entry/row of the input data X, only the Review Text feature is going to be used for classifying whether the review is positive or negative.\n",
    "\n",
    "Posterior probability: $P(\\text{class} | \\text{review})$\n",
    "\n",
    "Likelihood probability: $P(\\text{review} | \\text{class})$\n",
    "\n",
    "Prior probability: $P(\\text{class})$\n"
   ]
  },
  {
   "cell_type": "markdown",
   "id": "4cf9ccd9",
   "metadata": {},
   "source": [
    "## Preliminary Analysis"
   ]
  },
  {
   "cell_type": "code",
   "execution_count": 6,
   "id": "9075acc6",
   "metadata": {},
   "outputs": [],
   "source": [
    "def naive_train(X_train, C, beta):\n",
    "    N, V = X_train.shape\n",
    "    priors  = np.zeros(C)\n",
    "    likelihoods = np.zeros((C, V))\n",
    "    \n",
    "    for c in range(C):\n",
    "        class_mask = y_train == c\n",
    "        priors[c] = (class_mask.sum() + beta) / (N + (C * beta))\n",
    "        likelihoods[c] = (X_train[class_mask].sum(0) + beta) / (X_train[class_mask].sum() + (V * beta))\n",
    "    \n",
    "    return priors, likelihoods\n",
    "\n",
    "X_train = bow.transform(X_train)\n",
    "priors, likelihoods = naive_train(X_train, 2, 1)"
   ]
  },
  {
   "cell_type": "code",
   "execution_count": 7,
   "id": "f786e45f",
   "metadata": {},
   "outputs": [
    {
     "data": {
      "text/plain": [
       "<BarContainer object of 2 artists>"
      ]
     },
     "execution_count": 7,
     "metadata": {},
     "output_type": "execute_result"
    },
    {
     "data": {
      "image/png": "[encoded data removed]",
      "text/plain": [
       "<Figure size 432x288 with 1 Axes>"
      ]
     },
     "metadata": {
      "needs_background": "light"
     },
     "output_type": "display_data"
    }
   ],
   "source": [
    "plt.title(\"Prior Probabilities of First 100 Reviews\")\n",
    "plt.yticks(np.arange(0, 1, step=0.1))\n",
    "plt.ylabel('Probability')\n",
    "plt.xlabel('Priors')\n",
    "plt.bar(['Negative Sentiment', 'Positive Sentiment'], priors, color = ['gray', 'white'], edgecolor='black')"
   ]
  },
  {
   "cell_type": "code",
   "execution_count": 8,
   "id": "38d9380a",
   "metadata": {},
   "outputs": [
    {
     "data": {
      "image/png": "[encoded data removed]",
      "text/plain": [
       "<Figure size 1080x288 with 2 Axes>"
      ]
     },
     "metadata": {
      "needs_background": "light"
     },
     "output_type": "display_data"
    }
   ],
   "source": [
    "fig, ax = plt.subplots(nrows=1, ncols=2, figsize=(15,4))\n",
    "\n",
    "ax[0].set(xlabel='Likelihoods given Neg. Sentiment', ylabel='Probability')\n",
    "ax[0].bar(bow.get_feature_names(), likelihoods[0], color = 'gray', edgecolor='black') #row=0, col=0\n",
    "\n",
    "ax[1].set(xlabel='Likelihoods given Pos. Sentiment', ylabel='Probability')\n",
    "ax[1].bar(bow.get_feature_names(), likelihoods[1], color = 'white', edgecolor='black') #row=0, col=1\n",
    "\n",
    "\n",
    "plt.show()"
   ]
  },
  {
   "cell_type": "markdown",
   "id": "dcba9d96",
   "metadata": {},
   "source": [
    "## Final Results\n",
    "$F1 = 2 \\cdot \\dfrac{precision \\cdot recall}{precision + recall} = \\dfrac{TP}{TP + 0.5(FP + FN)}$\n",
    "\n",
    "$Accuracy = \\dfrac{TP + TN}{TP + FP + TN + FN}$\n",
    "\n",
    "TP = true positive,\n",
    "FP = false positive,\n",
    "TN = true negative,\n",
    "FN = false negative"
   ]
  },
  {
   "cell_type": "code",
   "execution_count": 9,
   "id": "a9eaf104",
   "metadata": {
    "scrolled": true
   },
   "outputs": [],
   "source": [
    "X_train, y_train, X_valid, y_valid, X_test = load_data(return_numpy=True)"
   ]
  },
  {
   "cell_type": "code",
   "execution_count": 10,
   "id": "468c7c42",
   "metadata": {
    "scrolled": false
   },
   "outputs": [],
   "source": [
    "model = NaiveBayes(beta = 1)\n",
    "NB_priors, NB_likelihoods = model.fit(X_train, y_train)\n",
    "NB_posteriors, NB_y_pred = model.predict(X_valid)\n",
    "conf_mat = confusion_matrix(y_valid, NB_y_pred)"
   ]
  },
  {
   "cell_type": "code",
   "execution_count": 11,
   "id": "30ddaa50",
   "metadata": {},
   "outputs": [
    {
     "name": "stdout",
     "output_type": "stream",
     "text": [
      "roc auc: 0.8078631831377004\n",
      "f1     : 0.9638799389520095\n",
      "acc    : 0.9354349802970597\n"
     ]
    }
   ],
   "source": [
    "print(f'roc auc: {roc_auc_score(y_valid, NB_y_pred)}')\n",
    "print(f'f1     : {f1_score(y_valid, NB_y_pred)}')\n",
    "print(f'acc    : {accuracy_score(y_valid, NB_y_pred)}')"
   ]
  },
  {
   "cell_type": "markdown",
   "id": "cfc14f13",
   "metadata": {},
   "source": [
    "## Hyper-parameter tuning\n",
    "The hyper parameter $\\beta$ is used as a regularization constant to decrease variance in the bayes network."
   ]
  },
  {
   "cell_type": "code",
   "execution_count": 12,
   "id": "2e4629f2",
   "metadata": {
    "scrolled": false
   },
   "outputs": [
    {
     "data": {
      "text/plain": [
       "[<matplotlib.lines.Line2D at 0x1d6f30a1df0>]"
      ]
     },
     "execution_count": 12,
     "metadata": {},
     "output_type": "execute_result"
    },
    {
     "data": {
      "image/png": "[encoded data removed]",
      "text/plain": [
       "<Figure size 432x288 with 1 Axes>"
      ]
     },
     "metadata": {
      "needs_background": "light"
     },
     "output_type": "display_data"
    }
   ],
   "source": [
    "betas = []\n",
    "scores = []\n",
    "for i in range(1, 10):\n",
    "    model = NaiveBayes(beta = i)\n",
    "    NB_priors, NB_likelihoods = model.fit(X_train, y_train)\n",
    "    NB_posteriors, NB_y_pred = model.predict(X_valid)\n",
    "    score = roc_auc_score(y_valid, NB_y_pred)\n",
    "    \n",
    "    betas.append(i)\n",
    "    scores.append(score)\n",
    "\n",
    "plt.xlabel('Betas')\n",
    "plt.ylabel('ROC AUC scores')\n",
    "plt.plot(betas, scores)"
   ]
  },
  {
   "cell_type": "markdown",
   "id": "e420acef",
   "metadata": {},
   "source": [
    "# Logistic Regression\n",
    "\n",
    "Logistic regression is a statistical model that in its basic form uses a logistic function to model a binary dependent variable, although many more complex extensions exist. In regression analysis, logistic regression (or logit regression) is estimating the parameters of a logistic model (a form of binary regression). This section implements l2-regularized Logistic Regression classifier from scratch. For optimization, this notebook uses gradient descent with constant learning rate. The task is to learn a classifier that can separate positive vs negative reviews"
   ]
  },
  {
   "cell_type": "code",
   "execution_count": 18,
   "id": "89dac6b6",
   "metadata": {},
   "outputs": [
    {
     "name": "stdout",
     "output_type": "stream",
     "text": [
      "Epoch :  100  loss :  0.2543159326555747\n",
      "Epoch :  200  loss :  0.2137989727379827\n",
      "\n",
      "f1     :0.9612794612794613\n",
      "roc auc: 0.7706162889237482\n"
     ]
    }
   ],
   "source": [
    "model = LogisticRegression(X_train.shape[1], reg = 1e-3)\n",
    "loss_hist = model.gradDescent(X_train, y_train, 1, 200, verbose = True)\n",
    "probs, y_pred = model.predict(X_valid)\n",
    "\n",
    "print()\n",
    "print(f'f1     :{score(y_valid, y_pred)}')\n",
    "print(f'roc auc: {roc_auc_score(y_valid, y_pred)}')"
   ]
  }
 ],
 "metadata": {
  "kernelspec": {
   "display_name": "Python 3",
   "language": "python",
   "name": "python3"
  },
  "language_info": {
   "codemirror_mode": {
    "name": "ipython",
    "version": 3
   },
   "file_extension": ".py",
   "mimetype": "text/x-python",
   "name": "python",
   "nbconvert_exporter": "python",
   "pygments_lexer": "ipython3",
   "version": "3.8.8"
  }
 },
 "nbformat": 4,
 "nbformat_minor": 5
}
