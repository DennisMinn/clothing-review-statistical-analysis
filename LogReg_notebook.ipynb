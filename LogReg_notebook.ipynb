{
 "cells": [
  {
   "cell_type": "code",
   "execution_count": 1,
   "id": "d1ee6135",
   "metadata": {},
   "outputs": [],
   "source": [
    "# Some more magic so that the notebook will reload external python modules;\n",
    "# see http://stackoverflow.com/questions/1907993/autoreload-of-modules-in-ipython\n",
    "from Submission.Code.LR_Template import *\n",
    "%load_ext autoreload\n",
    "%autoreload 2"
   ]
  },
  {
   "cell_type": "code",
   "execution_count": 2,
   "id": "262233c4",
   "metadata": {
    "scrolled": true
   },
   "outputs": [
    {
     "name": "stderr",
     "output_type": "stream",
     "text": [
      "IOPub data rate exceeded.\n",
      "The notebook server will temporarily stop sending output\n",
      "to the client in order to avoid crashing it.\n",
      "To change this limit, set the config variable\n",
      "`--NotebookApp.iopub_data_rate_limit`.\n",
      "\n",
      "Current values:\n",
      "NotebookApp.iopub_data_rate_limit=1000000.0 (bytes/sec)\n",
      "NotebookApp.rate_limit_window=3.0 (secs)\n",
      "\n"
     ]
    },
    {
     "name": "stdout",
     "output_type": "stream",
     "text": [
      "['and', 'but', 'for', 'in', 'is', 'it', 'on', 'the', 'this', 'to']\n"
     ]
    }
   ],
   "source": [
    "X_train, y_train, X_valid, y_valid, X_test = load_data(return_numpy=True, debug=True)"
   ]
  },
  {
   "cell_type": "code",
   "execution_count": 3,
   "id": "2ea45890",
   "metadata": {},
   "outputs": [
    {
     "name": "stdout",
     "output_type": "stream",
     "text": [
      "difference: 0\n"
     ]
    }
   ],
   "source": [
    "W = np.arange(0,10).reshape(-1, 1)\n",
    "np_X_train = X_train.toarray()\n",
    "\n",
    "np_scores = np_X_train.dot(W)\n",
    "scores = X_train.dot(W)\n",
    "print(f'difference: {np.sum(np_scores.sum() - scores.sum())}')"
   ]
  },
  {
   "cell_type": "code",
   "execution_count": 4,
   "id": "7964f0ae",
   "metadata": {},
   "outputs": [],
   "source": [
    "def logreg_loss(X, W, y):\n",
    "    y = y.reshape(-1, 1)\n",
    "    \n",
    "    Z = X.dot(W)\n",
    "    A = 1 / (1 + np.exp(Z))\n",
    "    dW = (X_train.T).dot(A - y) / X.shape[0]\n",
    "    loss = -(y * np.log(A) + (1 - y) * np.log(1 - A)).sum() / X.shape[0]\n",
    "\n",
    "    return A, loss, dW"
   ]
  },
  {
   "cell_type": "code",
   "execution_count": 5,
   "id": "5261855e",
   "metadata": {
    "scrolled": false
   },
   "outputs": [
    {
     "name": "stdout",
     "output_type": "stream",
     "text": [
      "55.898386627411156\n"
     ]
    }
   ],
   "source": [
    "A, loss, dW = logreg_loss(X_train, W, y_train)\n",
    "print(loss)"
   ]
  },
  {
   "cell_type": "code",
   "execution_count": 6,
   "id": "5f7f15bd",
   "metadata": {},
   "outputs": [
    {
     "data": {
      "text/plain": [
       "(array([[6.69285092e-03],\n",
       "        [9.11051194e-04],\n",
       "        [4.47377931e-38],\n",
       "        ...,\n",
       "        [1.97925988e-32],\n",
       "        [3.30570063e-37],\n",
       "        [5.00000000e-01]]),\n",
       " array([1, 1, 1, ..., 1, 1, 1]))"
      ]
     },
     "execution_count": 6,
     "metadata": {},
     "output_type": "execute_result"
    }
   ],
   "source": [
    "A, y_train"
   ]
  },
  {
   "cell_type": "code",
   "execution_count": 7,
   "id": "1f33a8ea",
   "metadata": {},
   "outputs": [
    {
     "data": {
      "text/plain": [
       "array([0.69304327])"
      ]
     },
     "execution_count": 7,
     "metadata": {},
     "output_type": "execute_result"
    }
   ],
   "source": [
    "model = LogisticRegression(X_train.shape[1])\n",
    "model.gradDescent(X_train, y_train, 0, 1)"
   ]
  },
  {
   "cell_type": "markdown",
   "id": "526b3814",
   "metadata": {},
   "source": [
    "# Unbounded Vocab"
   ]
  },
  {
   "cell_type": "code",
   "execution_count": 8,
   "id": "23b10c7c",
   "metadata": {},
   "outputs": [],
   "source": [
    "X_train, y_train, X_valid, y_valid, X_test = load_data(return_numpy=True)"
   ]
  },
  {
   "cell_type": "code",
   "execution_count": 9,
   "id": "8144aada",
   "metadata": {},
   "outputs": [
    {
     "data": {
      "text/plain": [
       "(13193, 11103)"
      ]
     },
     "execution_count": 9,
     "metadata": {},
     "output_type": "execute_result"
    }
   ],
   "source": [
    "X_train.shape"
   ]
  },
  {
   "cell_type": "code",
   "execution_count": 33,
   "id": "a630aeeb",
   "metadata": {
    "scrolled": false
   },
   "outputs": [
    {
     "name": "stdout",
     "output_type": "stream",
     "text": [
      "Epoch :  99  loss :  0.3010379386135561\n",
      "Epoch :  199  loss :  0.21414320086848054\n",
      "[[ 263.  117.]\n",
      " [ 115. 2804.]]\n",
      "0.9602739726027397\n",
      "0.826354104686176\n"
     ]
    }
   ],
   "source": [
    "model = LogisticRegression(X_train.shape[1], reg = 1e-3)\n",
    "loss_hist = model.gradDescent(X_train, y_train, 1, 200, verbose = True)\n",
    "probs, y_pred = model.predict(X_valid)\n",
    "\n",
    "print(score(y_valid, y_pred))\n",
    "print(roc_auc_score(y_valid, y_pred))"
   ]
  },
  {
   "cell_type": "code",
   "execution_count": 35,
   "id": "a91cb7fb",
   "metadata": {},
   "outputs": [
    {
     "name": "stdout",
     "output_type": "stream",
     "text": [
      "roc auc: 0.826354104686176\n",
      "roc auc: 0.8427889189505724\n"
     ]
    }
   ],
   "source": [
    "from sklearn.metrics import roc_auc_score\n",
    "\n",
    "# Q3.1\n",
    "probs, y_pred = model.predict(X_valid)\n",
    "print(f'roc auc: {roc_auc_score(y_valid, y_pred)}')\n",
    "probs, y_pred = model.predict(X_train)\n",
    "print(f'roc auc: {roc_auc_score(y_train, y_pred)}')"
   ]
  },
  {
   "cell_type": "code",
   "execution_count": 11,
   "id": "4218f4dc",
   "metadata": {
    "scrolled": true
   },
   "outputs": [
    {
     "data": {
      "text/plain": [
       "array([[0.99993442],\n",
       "       [0.80426203],\n",
       "       [0.98934364],\n",
       "       ...,\n",
       "       [0.41885422],\n",
       "       [0.99143391],\n",
       "       [0.99856364]])"
      ]
     },
     "execution_count": 11,
     "metadata": {},
     "output_type": "execute_result"
    }
   ],
   "source": [
    "probs"
   ]
  },
  {
   "cell_type": "code",
   "execution_count": 29,
   "id": "5cb8ce60",
   "metadata": {
    "scrolled": true
   },
   "outputs": [
    {
     "name": "stdout",
     "output_type": "stream",
     "text": [
      "Test 0: \n",
      "regularization: 0.11460250372205912\n",
      "learning rate: 0.0015336812182905552\n",
      "iterations: 463\n",
      "\n",
      "\n",
      "f1 scores: 0.9388871019620456\n",
      "roc auc score: 0.5\n",
      "----------------------------------------\n",
      "Test 1: \n",
      "regularization: 0.07869200260163788\n",
      "learning rate: 0.0024007930886685755\n",
      "iterations: 273\n",
      "\n",
      "\n",
      "f1 scores: 0.9388871019620456\n",
      "roc auc score: 0.5\n",
      "----------------------------------------\n",
      "Test 2: \n",
      "regularization: 0.11239513376911235\n",
      "learning rate: 0.0006469468857092667\n",
      "iterations: 115\n",
      "\n",
      "\n",
      "f1 scores: 0.9388871019620456\n",
      "roc auc score: 0.5\n",
      "----------------------------------------\n"
     ]
    }
   ],
   "source": [
    "import numpy as np\n",
    "from sklearn.metrics import roc_auc_score\n",
    "\n",
    "for i in range(3):\n",
    "    print(f'Test {i}: ')\n",
    "    y_pred = None\n",
    "    reg = np.random.uniform(0, 0.2)\n",
    "    lr = np.random.uniform(1e-4, 1e-2)\n",
    "    iterations = int(np.random.uniform(10, 500))\n",
    "    \n",
    "    print(f'regularization: {reg}')\n",
    "    print(f'learning rate: {lr}')\n",
    "    print(f'iterations: {iterations}')\n",
    "    print('\\n')\n",
    "    model = LogisticRegression(X_train.shape[1], reg = reg)\n",
    "    loss_hist = model.gradDescent(X_train, y_train, lr, iterations, verbose = False)\n",
    "    probs, y_pred = model.predict(X_valid)\n",
    "    \n",
    "    if y_pred is None:\n",
    "        print('-' * 40)\n",
    "        continue\n",
    "    \n",
    "    print(f'f1 scores: {score(y_valid, y_pred)}')\n",
    "    print(f'roc auc score: {roc_auc_score(y_valid, y_pred)}')\n",
    "    print('-' * 40)"
   ]
  },
  {
   "cell_type": "code",
   "execution_count": null,
   "id": "c50c0023",
   "metadata": {},
   "outputs": [],
   "source": []
  }
 ],
 "metadata": {
  "kernelspec": {
   "display_name": "Python 3",
   "language": "python",
   "name": "python3"
  },
  "language_info": {
   "codemirror_mode": {
    "name": "ipython",
    "version": 3
   },
   "file_extension": ".py",
   "mimetype": "text/x-python",
   "name": "python",
   "nbconvert_exporter": "python",
   "pygments_lexer": "ipython3",
   "version": "3.8.8"
  }
 },
 "nbformat": 4,
 "nbformat_minor": 5
}
